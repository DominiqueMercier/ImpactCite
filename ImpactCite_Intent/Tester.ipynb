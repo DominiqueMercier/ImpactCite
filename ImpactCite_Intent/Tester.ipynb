{
 "cells": [
  {
   "cell_type": "code",
   "execution_count": 15,
   "metadata": {},
   "outputs": [],
   "source": [
    "#count the number of files in each of the test folder\n",
    "\n",
    "import os, os.path\n",
    "import pandas as pd\n",
    "#DIR = '/tmp'\n",
    "#print len([name for name in os.listdir(DIR) if os.path.isfile(os.path.join(DIR, name))])"
   ]
  },
  {
   "cell_type": "code",
   "execution_count": 16,
   "metadata": {},
   "outputs": [],
   "source": [
    "cwd = os.getcwd()\n",
    "root='aclImdb'\n",
    "test_result_folder=cwd + '/'+root+'/test/result/'\n",
    "test_method_folder=cwd + '/'+root+'/test/method/'\n",
    "test_background_folder=cwd + '/'+root+'/test/background/'\n",
    "\n",
    "def get_num_of_files(folder):\n",
    "    return len([name for name in os.listdir(folder) if os.path.isfile(os.path.join(folder, name))])\n"
   ]
  },
  {
   "cell_type": "code",
   "execution_count": 17,
   "metadata": {},
   "outputs": [
    {
     "name": "stdout",
     "output_type": "stream",
     "text": [
      "result_file_count 259\n",
      "method_file_count 605\n",
      "background_file_count 997\n"
     ]
    }
   ],
   "source": [
    "result_file_count=get_num_of_files(test_result_folder)\n",
    "method_file_count=get_num_of_files(test_method_folder)\n",
    "background_file_count=get_num_of_files(test_background_folder)\n",
    "\n",
    "print(\"result_file_count\",result_file_count)\n",
    "print(\"method_file_count\",method_file_count)\n",
    "print(\"background_file_count\",background_file_count)"
   ]
  },
  {
   "cell_type": "code",
   "execution_count": 26,
   "metadata": {},
   "outputs": [
    {
     "name": "stdout",
     "output_type": "stream",
     "text": [
      "label_list 1862\n"
     ]
    }
   ],
   "source": [
    "result_list=['result']*result_file_count\n",
    "method_list=['method']*method_file_count\n",
    "background_list=['background']*background_file_count\n",
    "\n",
    "label_list=background_list+method_list+result_list\n",
    "label_list.append('background')\n",
    "print('label_list',len(label_list))"
   ]
  },
  {
   "cell_type": "code",
   "execution_count": 29,
   "metadata": {},
   "outputs": [
    {
     "name": "stdout",
     "output_type": "stream",
     "text": [
      "predictions_list 1862\n"
     ]
    }
   ],
   "source": [
    "predictions_df=pd.read_csv('imdb.tsv', sep='\\t', header=[0])\n",
    "predictions_list=predictions_df['prediction'].values.tolist()\n",
    "print('predictions_list',len(predictions_list))"
   ]
  },
  {
   "cell_type": "code",
   "execution_count": 35,
   "metadata": {},
   "outputs": [
    {
     "name": "stdout",
     "output_type": "stream",
     "text": [
      "              precision    recall  f1-score   support\n",
      "\n",
      "      result       0.79      0.93      0.85       259\n",
      "      method       0.88      0.86      0.87       605\n",
      "  background       0.91      0.88      0.90       998\n",
      "\n",
      "    accuracy                           0.88      1862\n",
      "   macro avg       0.86      0.89      0.87      1862\n",
      "weighted avg       0.88      0.88      0.88      1862\n",
      "\n",
      "[[240   3  16]\n",
      " [ 18 519  68]\n",
      " [ 45  71 882]]\n",
      "\n",
      "Accuracy for class result: 92.664 %\n",
      "Accuracy for class method: 85.785 %\n",
      "Accuracy for class background: 88.377 %\n"
     ]
    }
   ],
   "source": [
    "from sklearn.metrics import confusion_matrix,classification_report\n",
    "import numpy as np\n",
    "\n",
    "labels = ['result', 'method','background']\n",
    "cm = confusion_matrix(label_list, predictions_list, labels)\n",
    "print(classification_report(label_list, predictions_list, labels))\n",
    "print(cm)\n",
    "cm = cm.astype('float') / cm.sum(axis=1)[:, np.newaxis]\n",
    "print(\"\\nAccuracy for class result: {:.3f} %\".format((cm.diagonal()[0]) * 100))\n",
    "print(\"Accuracy for class method: {:.3f} %\".format((cm.diagonal()[1]) * 100))\n",
    "print(\"Accuracy for class background: {:.3f} %\".format((cm.diagonal()[2]) * 100))"
   ]
  },
  {
   "cell_type": "code",
   "execution_count": null,
   "metadata": {},
   "outputs": [],
   "source": []
  }
 ],
 "metadata": {
  "kernelspec": {
   "display_name": "Python 3",
   "language": "python",
   "name": "python3"
  },
  "language_info": {
   "codemirror_mode": {
    "name": "ipython",
    "version": 3
   },
   "file_extension": ".py",
   "mimetype": "text/x-python",
   "name": "python",
   "nbconvert_exporter": "python",
   "pygments_lexer": "ipython3",
   "version": "3.7.5"
  }
 },
 "nbformat": 4,
 "nbformat_minor": 2
}
