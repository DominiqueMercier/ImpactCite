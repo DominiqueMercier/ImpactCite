{
 "cells": [
  {
   "cell_type": "code",
   "execution_count": 1,
   "metadata": {},
   "outputs": [],
   "source": [
    "import numpy as np\n",
    "import os\n",
    "import pickle\n",
    "\n",
    "# path to the output of the dataset cleaner\n",
    "path = '../data/output/'\n",
    "# cleaned datafile\n",
    "complete_file = 'cosinetrain'"
   ]
  },
  {
   "cell_type": "code",
   "execution_count": 2,
   "metadata": {},
   "outputs": [],
   "source": [
    "def clean_data_file(path):\n",
    "    data = []\n",
    "    labels = []\n",
    "    with open(path, 'r') as f:\n",
    "        for l in f.readlines():\n",
    "            # remove dummy colmuns used for xlnet\n",
    "            y, x = l.split('\\t')[2:]\n",
    "            data.append(x[:-2])\n",
    "            labels.append(y)\n",
    "    \n",
    "    return data, labels\n",
    "\n",
    "def save_data_file(path, data, labels):\n",
    "    content = [data, labels]\n",
    "    with open(path, 'wb') as f:\n",
    "        pickle.dump(content, f)\n",
    "\n",
    "def process_folds(path):\n",
    "    data = []\n",
    "    label = []\n",
    "    \n",
    "    prefix= 'Fold_'\n",
    "    postfix= 'test'\n",
    "    for f in os.listdir(path):\n",
    "        if not prefix in f:\n",
    "            continue\n",
    "        if not postfix in f:\n",
    "            continue\n",
    "        i = f.split(prefix)[1].split('t')[0]\n",
    "        # only select the test fold as the trian fold includs all other folds\n",
    "        test_path = os.path.join(path, prefix + i + 'test.txt')\n",
    "        d, l = clean_data_file(test_path)\n",
    "        data.append(d)\n",
    "        label.append(l)\n",
    "        \n",
    "    return data, label"
   ]
  },
  {
   "source": [
    "Create a file that stores the complete corpus.  \n",
    "The format is the following:  \n",
    "\\[data, labels\\]  \n",
    "data: The text samples.  \n",
    "labels: The textul label (o: neutral, p: positive, n: negative)."
   ],
   "cell_type": "markdown",
   "metadata": {}
  },
  {
   "cell_type": "code",
   "execution_count": 3,
   "metadata": {},
   "outputs": [],
   "source": [
    "# use the complete data and remove the dummy colums\n",
    "complete_path = os.path.join(path, complete_file + '.txt')\n",
    "data_complete, label_complete = clean_data_file(complete_path)\n",
    "complete_path_target = '../data/dataset/dataset_full.pickle'\n",
    "save_data_file(complete_path_target, data_complete, label_complete)"
   ]
  },
  {
   "source": [
    "Create a file that stores the test folds.  \n",
    "The train fold can be computed using all text samples not included in the test fold.  \n",
    "The format is the following:  \n",
    "\\[data, labels\\]  \n",
    "data: A list for each fold that stores the text samples.\n",
    "labels: A list for each fold that stores textul label (o: neutral, p: positive, n: negative)."
   ],
   "cell_type": "markdown",
   "metadata": {}
  },
  {
   "cell_type": "code",
   "execution_count": 4,
   "metadata": {},
   "outputs": [],
   "source": [
    "# use the data folds, remove the dummy columns\n",
    "complete_path = os.path.join(path, complete_file + '.txt')\n",
    "data_folds, label_folds = process_folds(path)\n",
    "fold_path_target = '../data/dataset/dataset_folds.pickle'\n",
    "save_data_file(fold_path_target, data_folds, label_folds)"
   ]
  }
 ],
 "metadata": {
  "language_info": {
   "codemirror_mode": {
    "name": "ipython",
    "version": 3
   },
   "file_extension": ".py",
   "mimetype": "text/x-python",
   "name": "python",
   "nbconvert_exporter": "python",
   "pygments_lexer": "ipython3",
   "version": "3.6.10-final"
  },
  "orig_nbformat": 2,
  "kernelspec": {
   "name": "python36964bita54aa851efd74a40947ad31aa4b50f69",
   "display_name": "Python 3.6.9 64-bit"
  }
 },
 "nbformat": 4,
 "nbformat_minor": 2
}